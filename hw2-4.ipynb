{
 "cells": [
  {
   "cell_type": "code",
   "execution_count": 13,
   "metadata": {},
   "outputs": [
    {
     "ename": "AttributeError",
     "evalue": "module 'cv2.cv2' has no attribute 'SIFT'",
     "output_type": "error",
     "traceback": [
      "\u001b[1;31m---------------------------------------------------------------------------\u001b[0m",
      "\u001b[1;31mAttributeError\u001b[0m                            Traceback (most recent call last)",
      "\u001b[1;32m<ipython-input-13-3f3720ac9d7b>\u001b[0m in \u001b[0;36m<module>\u001b[1;34m()\u001b[0m\n\u001b[0;32m      9\u001b[0m \u001b[1;33m\u001b[0m\u001b[0m\n\u001b[0;32m     10\u001b[0m \u001b[1;31m# Create SIFT detector object\u001b[0m\u001b[1;33m\u001b[0m\u001b[1;33m\u001b[0m\u001b[0m\n\u001b[1;32m---> 11\u001b[1;33m \u001b[0msift\u001b[0m \u001b[1;33m=\u001b[0m \u001b[0mcv2\u001b[0m\u001b[1;33m.\u001b[0m\u001b[0mSIFT\u001b[0m\u001b[1;33m(\u001b[0m\u001b[1;33m)\u001b[0m\u001b[1;33m\u001b[0m\u001b[0m\n\u001b[0m\u001b[0;32m     12\u001b[0m \u001b[1;33m\u001b[0m\u001b[0m\n\u001b[0;32m     13\u001b[0m \u001b[1;31m# Obtain the keypoints and descriptors using SIFT\u001b[0m\u001b[1;33m\u001b[0m\u001b[1;33m\u001b[0m\u001b[0m\n",
      "\u001b[1;31mAttributeError\u001b[0m: module 'cv2.cv2' has no attribute 'SIFT'"
     ]
    }
   ],
   "source": [
    "#SIFT\n",
    "import cv2\n",
    "import numpy as np\n",
    "\n",
    "# Load our image template, this is our reference image\n",
    "image1= cv2.imread('book.jpg', 0)\n",
    "image2 = cv2.imread('bookscene.jpg', 0) \n",
    "\n",
    "# Create SIFT detector object\n",
    "sift = cv2.SIFT()\n",
    "\n",
    "# Obtain the keypoints and descriptors using SIFT\n",
    "keypoints_1, descriptors_1 = sift.detectAndCompute(image1, None)\n",
    "keypoints_2, descriptors_2 = sift.detectAndCompute(image2, None)\n",
    "\n",
    "# Define parameters for our Flann Matcher\n",
    "FLANN_INDEX_KDTREE = 0\n",
    "index_params = dict(algorithm = FLANN_INDEX_KDTREE, trees = 3)\n",
    "search_params = dict(checks = 100)\n",
    "\n",
    "# Create the Flann Matcher object\n",
    "flann = cv2.FlannBasedMatcher(index_params, search_params)\n",
    "\n",
    "# Obtain matches using K-Nearest Neighbor Method\n",
    "# the result 'matchs' is the number of similar matches found in both images\n",
    "matches = flann.knnMatch(descriptors_1, descriptors_2, k=2)\n",
    "\n",
    "# Store good matches using Lowe's ratio test\n",
    "good_matches = []\n",
    "for m,n in matches:\n",
    "    if m.distance < 0.7 * n.distance:\n",
    "        good_matches.append(m) \n",
    "\n",
    "    \n",
    "# Get number of SIFT matches\n",
    "matches = len(good_matches)\n",
    "\n",
    "    \n",
    "# Our threshold to indicate object deteciton\n",
    "# We use 10 since the SIFT detector returns little false positves\n",
    "threshold = 10\n",
    "    \n",
    "# If matches exceed our threshold then object has been detected\n",
    "if matches > threshold:\n",
    "    print ('found')\n",
    "else:\n",
    "    print ('not found')\n",
    "    "
   ]
  },
  {
   "cell_type": "code",
   "execution_count": 12,
   "metadata": {},
   "outputs": [
    {
     "ename": "AttributeError",
     "evalue": "module 'cv2.cv2' has no attribute 'ORB'",
     "output_type": "error",
     "traceback": [
      "\u001b[1;31m---------------------------------------------------------------------------\u001b[0m",
      "\u001b[1;31mAttributeError\u001b[0m                            Traceback (most recent call last)",
      "\u001b[1;32m<ipython-input-12-5720af957dc3>\u001b[0m in \u001b[0;36m<module>\u001b[1;34m()\u001b[0m\n\u001b[0;32m     11\u001b[0m \u001b[1;33m\u001b[0m\u001b[0m\n\u001b[0;32m     12\u001b[0m \u001b[1;31m# Create ORB detector with 1000 keypoints with a scaling pyramid factor of 1.2\u001b[0m\u001b[1;33m\u001b[0m\u001b[1;33m\u001b[0m\u001b[0m\n\u001b[1;32m---> 13\u001b[1;33m \u001b[0morb\u001b[0m \u001b[1;33m=\u001b[0m \u001b[0mcv2\u001b[0m\u001b[1;33m.\u001b[0m\u001b[0mORB\u001b[0m\u001b[1;33m(\u001b[0m\u001b[1;36m1000\u001b[0m\u001b[1;33m,\u001b[0m \u001b[1;36m1.2\u001b[0m\u001b[1;33m)\u001b[0m\u001b[1;33m\u001b[0m\u001b[0m\n\u001b[0m\u001b[0;32m     14\u001b[0m \u001b[1;33m\u001b[0m\u001b[0m\n\u001b[0;32m     15\u001b[0m \u001b[1;31m# Detect keypoints of original image\u001b[0m\u001b[1;33m\u001b[0m\u001b[1;33m\u001b[0m\u001b[0m\n",
      "\u001b[1;31mAttributeError\u001b[0m: module 'cv2.cv2' has no attribute 'ORB'"
     ]
    }
   ],
   "source": [
    "#ORB\n",
    "import cv2\n",
    "import numpy as np\n",
    "\n",
    "# Load our image and image template, this is our reference image\n",
    "image1= cv2.imread('book.jpg', 0)\n",
    "image2 = cv2.imread('bookscene.jpg', 0)\n",
    "\n",
    "# Create ORB detector with 1000 keypoints with a scaling pyramid factor of 1.2\n",
    "orb = cv2.ORB(1000, 1.2)\n",
    "\n",
    "# Detect keypoints of original image\n",
    "(kp1, des1) = orb.detectAndCompute(image1, None)\n",
    "\n",
    "# Detect keypoints of rotated image\n",
    "(kp2, des2) = orb.detectAndCompute(image_template, None)\n",
    "\n",
    "# Create matcher \n",
    "bf = cv2.BFMatcher(cv2.NORM_HAMMING, crossCheck=True)\n",
    "\n",
    "# Do matching\n",
    "matches = bf.match(des1,des2)\n",
    "\n",
    "# Sort the matches based on distance.  Least distance\n",
    "# is better\n",
    "matches = sorted(matches, key=lambda val: val.distance)\n",
    "\n",
    "\n",
    "# Note: The ORB detector to get the top 1000 matches, 500 is essentially a  50% match\n",
    "threshold = 500\n",
    "# If matches exceed our threshold then object has been detected\n",
    "print (len(matches))\n",
    "if len(matches) > threshold:\n",
    "    print ('found')\n",
    "else:\n",
    "    print('not found')"
   ]
  },
  {
   "cell_type": "code",
   "execution_count": null,
   "metadata": {},
   "outputs": [],
   "source": []
  }
 ],
 "metadata": {
  "kernelspec": {
   "display_name": "Python 3",
   "language": "python",
   "name": "python3"
  },
  "language_info": {
   "codemirror_mode": {
    "name": "ipython",
    "version": 3
   },
   "file_extension": ".py",
   "mimetype": "text/x-python",
   "name": "python",
   "nbconvert_exporter": "python",
   "pygments_lexer": "ipython3",
   "version": "3.5.4"
  }
 },
 "nbformat": 4,
 "nbformat_minor": 2
}
