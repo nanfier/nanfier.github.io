{
 "cells": [
  {
   "cell_type": "code",
   "execution_count": 1,
   "metadata": {},
   "outputs": [
    {
     "ename": "ImportError",
     "evalue": "No module named 'pymeanshift'",
     "output_type": "error",
     "traceback": [
      "\u001b[1;31m---------------------------------------------------------------------------\u001b[0m",
      "\u001b[1;31mImportError\u001b[0m                               Traceback (most recent call last)",
      "\u001b[1;32m<ipython-input-1-7ed04d871111>\u001b[0m in \u001b[0;36m<module>\u001b[1;34m()\u001b[0m\n\u001b[0;32m      1\u001b[0m \u001b[1;32mimport\u001b[0m \u001b[0mcv2\u001b[0m\u001b[1;33m\u001b[0m\u001b[0m\n\u001b[1;32m----> 2\u001b[1;33m \u001b[1;32mimport\u001b[0m \u001b[0mpymeanshift\u001b[0m \u001b[1;32mas\u001b[0m \u001b[0mpms\u001b[0m \u001b[1;31m#Lib available on github\u001b[0m\u001b[1;33m\u001b[0m\u001b[0m\n\u001b[0m\u001b[0;32m      3\u001b[0m \u001b[1;33m\u001b[0m\u001b[0m\n\u001b[0;32m      4\u001b[0m \u001b[0moriginal_image\u001b[0m \u001b[1;33m=\u001b[0m \u001b[0mcv2\u001b[0m\u001b[1;33m.\u001b[0m\u001b[0mimread\u001b[0m\u001b[1;33m(\u001b[0m\u001b[1;34m\"mydog.jpg\"\u001b[0m\u001b[1;33m)\u001b[0m \u001b[1;31m#loading image\u001b[0m\u001b[1;33m\u001b[0m\u001b[0m\n\u001b[0;32m      5\u001b[0m \u001b[1;33m\u001b[0m\u001b[0m\n",
      "\u001b[1;31mImportError\u001b[0m: No module named 'pymeanshift'"
     ]
    }
   ],
   "source": [
    "import cv2\n",
    "import pymeanshift as pms #Lib available on github\n",
    "\n",
    "original_image = cv2.imread(\"mydog.jpg\") #loading image\n",
    "\n",
    "#applying meanshift\n",
    "(segmented_image, labels_image, number_regions) = pms.segment(original_image, spatial_radius=6, range_radius=4.5, min_density=50)\n",
    "\n",
    "cv2.imwrite(\"meanShift.jpg\",segmented_image)"
   ]
  },
  {
   "cell_type": "code",
   "execution_count": 9,
   "metadata": {},
   "outputs": [],
   "source": [
    "import cv2\n",
    "import numpy as np\n",
    "\n",
    "#read the image\n",
    "image = cv2.imread('mydog.jpg')\n",
    "\n",
    "#Applying Gaussain Blur\n",
    "image = cv2.GaussianBlur(image,(7,7),0)\n",
    "\n",
    "#Reshaping the image\n",
    "vectorized = image.reshape(-1,3)\n",
    "\n",
    "# convert image to np.float32\n",
    "vectorized = np.float32(vectorized) \n",
    "\n",
    "# defining criteria\n",
    "criteria=(cv2.TERM_CRITERIA_EPS + cv2.TERM_CRITERIA_MAX_ITER,10, 1.0)\n",
    "\n",
    "#set flags\n",
    "flags = cv2.KMEANS_RANDOM_CENTERS\n",
    "\n",
    "#apply kmeans()\n",
    "ret,label,center = cv2.kmeans(vectorized,7,None,criteria,10,flags)\n",
    "\n",
    "# Now convert back into uint8, and make original image\n",
    "res = center[label.flatten()]\n",
    "segmented_image = res.reshape((image.shape))\n",
    "label,result= label.reshape((image.shape[0],image.shape[1])),segmented_image.astype(np.uint8)\n",
    "\n",
    "cv2.imwrite(\"Kmeans.jpg\",result)\n",
    "cv2.imshow(\"Kmeans\",result)\n",
    "cv2.waitKey(0)\n",
    "cv2.destroyAllWindows()\n"
   ]
  },
  {
   "cell_type": "code",
   "execution_count": null,
   "metadata": {
    "collapsed": true
   },
   "outputs": [],
   "source": []
  }
 ],
 "metadata": {
  "kernelspec": {
   "display_name": "Python 3",
   "language": "python",
   "name": "python3"
  },
  "language_info": {
   "codemirror_mode": {
    "name": "ipython",
    "version": 3
   },
   "file_extension": ".py",
   "mimetype": "text/x-python",
   "name": "python",
   "nbconvert_exporter": "python",
   "pygments_lexer": "ipython3",
   "version": "3.5.4"
  }
 },
 "nbformat": 4,
 "nbformat_minor": 2
}
